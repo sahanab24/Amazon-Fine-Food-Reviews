{
 "cells": [
  {
   "cell_type": "markdown",
   "metadata": {},
   "source": [
    "# K-NN on Bag Of Words"
   ]
  },
  {
   "cell_type": "code",
   "execution_count": 1,
   "metadata": {},
   "outputs": [],
   "source": [
    "%matplotlib inline\n",
    "\n",
    "import sqlite3\n",
    "import pandas as pd\n",
    "import numpy as np\n",
    "import nltk\n",
    "import string\n",
    "import matplotlib.pyplot as plt\n",
    "import seaborn as sns\n",
    "from sklearn.feature_extraction.text import TfidfTransformer\n",
    "from sklearn.feature_extraction.text import TfidfVectorizer\n",
    "\n",
    "from sklearn.feature_extraction.text import CountVectorizer\n",
    "from sklearn.metrics import confusion_matrix\n",
    "from sklearn import metrics\n",
    "from sklearn.metrics import roc_curve, auc\n",
    "from nltk.stem.porter import PorterStemmer"
   ]
  },
  {
   "cell_type": "code",
   "execution_count": 2,
   "metadata": {},
   "outputs": [],
   "source": [
    "con =sqlite3.connect('finaldb.sqlite')"
   ]
  },
  {
   "cell_type": "code",
   "execution_count": 3,
   "metadata": {},
   "outputs": [],
   "source": [
    "final = pd.read_sql_query(\"\"\"\n",
    "SELECT * FROM Reviews\n",
    "\"\"\",con)\n",
    "\n",
    "def partition(x):\n",
    "    if x == \"negative\":\n",
    "        return 0\n",
    "    return 1\n",
    "\n",
    "actualScore = final['Score']\n",
    "\n",
    "positiveNegative = actualScore.map(partition) \n",
    "final['Score'] = positiveNegative"
   ]
  },
  {
   "cell_type": "code",
   "execution_count": 4,
   "metadata": {},
   "outputs": [
    {
     "name": "stdout",
     "output_type": "stream",
     "text": [
      "(87773, 12)\n"
     ]
    }
   ],
   "source": [
    "print(final.shape)"
   ]
  },
  {
   "cell_type": "code",
   "execution_count": 5,
   "metadata": {},
   "outputs": [],
   "source": [
    "df_100 = final.sample(n=50000)"
   ]
  },
  {
   "cell_type": "code",
   "execution_count": 6,
   "metadata": {},
   "outputs": [
    {
     "name": "stdout",
     "output_type": "stream",
     "text": [
      "       index     Id   ProductId          UserId  \\\n",
      "7152    4911   5330  B000BYLQW6  A1IY251KN25VHT   \n",
      "68691  13021  14207  B0045XE32E  A28I98PKHZZKVB   \n",
      "15691  62360  67755  B000G6MBUA  A35JPD8Q492FJC   \n",
      "54727  58605  63621  B002IEZJMA  A31YSTICHFYN7O   \n",
      "85773  14957  16308  B007TJGZ54  A1KOCGNDLF2VUR   \n",
      "\n",
      "                                             ProfileName  \\\n",
      "7152                                        A. Patterson   \n",
      "68691  N. Brabec \"Dispensing Unappreciated Advice Daily\"   \n",
      "15691                                            Firefly   \n",
      "54727                                CPR \"xfilebuffyfan\"   \n",
      "85773                                              PEGGY   \n",
      "\n",
      "       HelpfulnessNumerator  HelpfulnessDenominator  Score        Time  \\\n",
      "7152                      3                       4      1  1208995200   \n",
      "68691                     2                       3      1  1299456000   \n",
      "15691                     0                       0      1  1304640000   \n",
      "54727                     0                       1      1  1338854400   \n",
      "85773                     0                       0      1  1313539200   \n",
      "\n",
      "                                                 Summary  \\\n",
      "7152                                     Best Treat Ever   \n",
      "68691        Our Little Gourmands Rated These Five Paws!   \n",
      "15691                                           Yowzah!!   \n",
      "54727  For Fans of Cold Espresso, AKA Brand X Doubles...   \n",
      "85773                                              PEGGY   \n",
      "\n",
      "                                                    Text  \\\n",
      "7152   My puppy, Megabyte, is a very picky puppy.  Af...   \n",
      "68691  The bottom line is that I recommend these trea...   \n",
      "15691  For me, Kettle is the best brand on the market...   \n",
      "54727  I had tried the illy issimo Cappuccino and fou...   \n",
      "85773  I ALWAYS BUY MY COFFEE FROM AMAZON AS THE PRIC...   \n",
      "\n",
      "                                             CleanedText  \n",
      "7152   b'puppi megabyt picki puppi spend hundr dollar...  \n",
      "68691  b'bottom line recommend treat weve feed dog or...  \n",
      "15691  b'kettl best brand market realli know turn hum...  \n",
      "54727  b'tri illi issimo cappuccino found strong coff...  \n",
      "85773  b'alway buy coffe amazon price cheaper love co...  \n"
     ]
    }
   ],
   "source": [
    "print(df_100.head(5))"
   ]
  },
  {
   "cell_type": "code",
   "execution_count": 7,
   "metadata": {},
   "outputs": [
    {
     "data": {
      "text/plain": [
       "1    42024\n",
       "0     7976\n",
       "Name: Score, dtype: int64"
      ]
     },
     "execution_count": 7,
     "metadata": {},
     "output_type": "execute_result"
    }
   ],
   "source": [
    "df_100['Score'].value_counts()"
   ]
  },
  {
   "cell_type": "code",
   "execution_count": 8,
   "metadata": {},
   "outputs": [],
   "source": [
    "#orting the data according to the Time\n",
    "df_100=df_100.sort_values('Time',axis=0,ascending=True,inplace=False,kind='quicksort',na_position='last')"
   ]
  },
  {
   "cell_type": "code",
   "execution_count": 12,
   "metadata": {},
   "outputs": [],
   "source": [
    "#split the data set into train and test\n",
    "y=df_100['Score']\n",
    "X_1=df_100[0:35000]\n",
    "X_test=df_100[35000:50000]\n",
    "y_1=y[0:35000]\n",
    "y_test=y[35000:50000]"
   ]
  },
  {
   "cell_type": "code",
   "execution_count": 13,
   "metadata": {},
   "outputs": [],
   "source": [
    "#BoW\n",
    "count_vect = CountVectorizer() #in scikit-learn\n",
    "X_1 = count_vect.fit_transform(X_1['Text'].values)"
   ]
  },
  {
   "cell_type": "code",
   "execution_count": 14,
   "metadata": {},
   "outputs": [],
   "source": [
    "# split the train data set into cross validation train and cross validation test\n",
    "X_train=X_1[0:24500]\n",
    "y_train=y_1[0:24500]\n",
    "X_cv=X_1[24500:35000]\n",
    "y_cv=y_1[24500:35000]"
   ]
  },
  {
   "cell_type": "code",
   "execution_count": 15,
   "metadata": {},
   "outputs": [
    {
     "data": {
      "text/html": [
       "<div>\n",
       "<style scoped>\n",
       "    .dataframe tbody tr th:only-of-type {\n",
       "        vertical-align: middle;\n",
       "    }\n",
       "\n",
       "    .dataframe tbody tr th {\n",
       "        vertical-align: top;\n",
       "    }\n",
       "\n",
       "    .dataframe thead th {\n",
       "        text-align: right;\n",
       "    }\n",
       "</style>\n",
       "<table border=\"1\" class=\"dataframe\">\n",
       "  <thead>\n",
       "    <tr style=\"text-align: right;\">\n",
       "      <th></th>\n",
       "      <th>index</th>\n",
       "      <th>Id</th>\n",
       "      <th>ProductId</th>\n",
       "      <th>UserId</th>\n",
       "      <th>ProfileName</th>\n",
       "      <th>HelpfulnessNumerator</th>\n",
       "      <th>HelpfulnessDenominator</th>\n",
       "      <th>Score</th>\n",
       "      <th>Time</th>\n",
       "      <th>Summary</th>\n",
       "      <th>Text</th>\n",
       "      <th>CleanedText</th>\n",
       "    </tr>\n",
       "  </thead>\n",
       "  <tbody>\n",
       "    <tr>\n",
       "      <th>66963</th>\n",
       "      <td>42032</td>\n",
       "      <td>45686</td>\n",
       "      <td>B0041NYV8E</td>\n",
       "      <td>A2XA8CW5DF4MNZ</td>\n",
       "      <td>Iron Man \"JON\"</td>\n",
       "      <td>0</td>\n",
       "      <td>0</td>\n",
       "      <td>1</td>\n",
       "      <td>1329091200</td>\n",
       "      <td>A different spark but satisfying!</td>\n",
       "      <td>The Gold Kili All Natural Instant Ginger &amp; Lem...</td>\n",
       "      <td>b'gold kili natur instant ginger lemon beverag...</td>\n",
       "    </tr>\n",
       "    <tr>\n",
       "      <th>59166</th>\n",
       "      <td>11323</td>\n",
       "      <td>12332</td>\n",
       "      <td>B00314ITOQ</td>\n",
       "      <td>A2QOQ794ALVHUB</td>\n",
       "      <td>Joslyn</td>\n",
       "      <td>0</td>\n",
       "      <td>0</td>\n",
       "      <td>1</td>\n",
       "      <td>1329091200</td>\n",
       "      <td>The Perfect Finishing Touch!</td>\n",
       "      <td>I was making Valentine Brownie Pops for my Gra...</td>\n",
       "      <td>b'make valentin browni pop grandson classroom ...</td>\n",
       "    </tr>\n",
       "    <tr>\n",
       "      <th>77052</th>\n",
       "      <td>37144</td>\n",
       "      <td>40356</td>\n",
       "      <td>B005BV0RLA</td>\n",
       "      <td>A1BZLVVQVELUZW</td>\n",
       "      <td>Texas Dog Lover</td>\n",
       "      <td>4</td>\n",
       "      <td>4</td>\n",
       "      <td>1</td>\n",
       "      <td>1329091200</td>\n",
       "      <td>A big hit with the \"kids\"</td>\n",
       "      <td>I just ordered these after my dogs' favorite c...</td>\n",
       "      <td>b'order dog favorit chew discontinu manufactur...</td>\n",
       "    </tr>\n",
       "    <tr>\n",
       "      <th>61494</th>\n",
       "      <td>74275</td>\n",
       "      <td>80809</td>\n",
       "      <td>B003DMXDGA</td>\n",
       "      <td>A9LWNO452P7UU</td>\n",
       "      <td>CJC</td>\n",
       "      <td>0</td>\n",
       "      <td>0</td>\n",
       "      <td>1</td>\n",
       "      <td>1329091200</td>\n",
       "      <td>Yummy As Always</td>\n",
       "      <td>I love these. They're cheesy, crunchy, and a r...</td>\n",
       "      <td>b'love theyr cheesi crunchi relat healthi junk...</td>\n",
       "    </tr>\n",
       "    <tr>\n",
       "      <th>25322</th>\n",
       "      <td>92748</td>\n",
       "      <td>100859</td>\n",
       "      <td>B000U604VE</td>\n",
       "      <td>A1JT9S5P9NKA29</td>\n",
       "      <td>Lindsey</td>\n",
       "      <td>0</td>\n",
       "      <td>0</td>\n",
       "      <td>0</td>\n",
       "      <td>1329091200</td>\n",
       "      <td>Picture of item is not item received</td>\n",
       "      <td>I ordered these for my mother.  She did receiv...</td>\n",
       "      <td>b'order mother receiv teddi bear flower basket...</td>\n",
       "    </tr>\n",
       "  </tbody>\n",
       "</table>\n",
       "</div>"
      ],
      "text/plain": [
       "       index      Id   ProductId          UserId      ProfileName  \\\n",
       "66963  42032   45686  B0041NYV8E  A2XA8CW5DF4MNZ   Iron Man \"JON\"   \n",
       "59166  11323   12332  B00314ITOQ  A2QOQ794ALVHUB           Joslyn   \n",
       "77052  37144   40356  B005BV0RLA  A1BZLVVQVELUZW  Texas Dog Lover   \n",
       "61494  74275   80809  B003DMXDGA   A9LWNO452P7UU              CJC   \n",
       "25322  92748  100859  B000U604VE  A1JT9S5P9NKA29          Lindsey   \n",
       "\n",
       "       HelpfulnessNumerator  HelpfulnessDenominator  Score        Time  \\\n",
       "66963                     0                       0      1  1329091200   \n",
       "59166                     0                       0      1  1329091200   \n",
       "77052                     4                       4      1  1329091200   \n",
       "61494                     0                       0      1  1329091200   \n",
       "25322                     0                       0      0  1329091200   \n",
       "\n",
       "                                    Summary  \\\n",
       "66963     A different spark but satisfying!   \n",
       "59166          The Perfect Finishing Touch!   \n",
       "77052             A big hit with the \"kids\"   \n",
       "61494                       Yummy As Always   \n",
       "25322  Picture of item is not item received   \n",
       "\n",
       "                                                    Text  \\\n",
       "66963  The Gold Kili All Natural Instant Ginger & Lem...   \n",
       "59166  I was making Valentine Brownie Pops for my Gra...   \n",
       "77052  I just ordered these after my dogs' favorite c...   \n",
       "61494  I love these. They're cheesy, crunchy, and a r...   \n",
       "25322  I ordered these for my mother.  She did receiv...   \n",
       "\n",
       "                                             CleanedText  \n",
       "66963  b'gold kili natur instant ginger lemon beverag...  \n",
       "59166  b'make valentin browni pop grandson classroom ...  \n",
       "77052  b'order dog favorit chew discontinu manufactur...  \n",
       "61494  b'love theyr cheesi crunchi relat healthi junk...  \n",
       "25322  b'order mother receiv teddi bear flower basket...  "
      ]
     },
     "execution_count": 15,
     "metadata": {},
     "output_type": "execute_result"
    }
   ],
   "source": [
    "X_test.head(5)"
   ]
  },
  {
   "cell_type": "code",
   "execution_count": 16,
   "metadata": {},
   "outputs": [],
   "source": [
    "#count_vec = CountVectorizer() \n",
    "X_test = count_vect.transform(X_test['Text'].values)"
   ]
  },
  {
   "cell_type": "code",
   "execution_count": 18,
   "metadata": {},
   "outputs": [],
   "source": [
    "import warnings\n",
    "warnings.filterwarnings(\"ignore\")"
   ]
  },
  {
   "cell_type": "code",
   "execution_count": 19,
   "metadata": {},
   "outputs": [],
   "source": [
    "# ============================== loading libraries ===========================================\n",
    "from sklearn.cross_validation import train_test_split\n",
    "from sklearn.neighbors import KNeighborsClassifier\n",
    "from sklearn.metrics import accuracy_score\n",
    "from sklearn.cross_validation import cross_val_score\n",
    "from collections import Counter\n",
    "from sklearn.metrics import accuracy_score\n",
    "from sklearn import cross_validation\n",
    "# ============================================================================================="
   ]
  },
  {
   "cell_type": "code",
   "execution_count": 21,
   "metadata": {},
   "outputs": [
    {
     "name": "stdout",
     "output_type": "stream",
     "text": [
      "\n",
      "CV accuracy for k = 1 is 80.066667%\n",
      "\n",
      "CV accuracy for k = 3 is 82.409524%\n",
      "\n",
      "CV accuracy for k = 5 is 83.019048%\n",
      "\n",
      "CV accuracy for k = 7 is 83.038095%\n",
      "\n",
      "CV accuracy for k = 9 is 82.980952%\n",
      "\n",
      "CV accuracy for k = 11 is 82.895238%\n",
      "\n",
      "CV accuracy for k = 13 is 82.857143%\n",
      "\n",
      "CV accuracy for k = 15 is 82.866667%\n",
      "\n",
      "CV accuracy for k = 17 is 82.876190%\n",
      "\n",
      "CV accuracy for k = 19 is 82.847619%\n",
      "\n",
      "CV accuracy for k = 21 is 82.828571%\n",
      "\n",
      "CV accuracy for k = 23 is 82.790476%\n",
      "\n",
      "CV accuracy for k = 25 is 82.771429%\n",
      "\n",
      "CV accuracy for k = 27 is 82.752381%\n",
      "\n",
      "CV accuracy for k = 29 is 82.733333%\n",
      "\n",
      "****Test accuracy for k = 1 is 79.946667%\n"
     ]
    }
   ],
   "source": [
    "for i in range(1,30,2):\n",
    "    knn = KNeighborsClassifier(n_neighbors=i)\n",
    "    knn.fit(X_train, y_train)\n",
    "    pred = knn.predict(X_cv)\n",
    "    acc = accuracy_score(y_cv, pred, normalize=True) * float(100)\n",
    "    print('\\nCV accuracy for k = %d is %f%%' % (i, acc))\n",
    "    \n",
    "knn = KNeighborsClassifier(1)\n",
    "knn.fit(X_train,y_train)\n",
    "pred = knn.predict(X_test)\n",
    "acc = accuracy_score(y_test, pred, normalize=True) * float(100)\n",
    "print('\\n****Test accuracy for k = 1 is %f%%' % (acc))"
   ]
  },
  {
   "cell_type": "code",
   "execution_count": 32,
   "metadata": {},
   "outputs": [
    {
     "name": "stdout",
     "output_type": "stream",
     "text": [
      "\n",
      "****Test accuracy for k = 1 is 82.940000%\n"
     ]
    }
   ],
   "source": [
    "#checking the test accuracy with k=5\n",
    "knn = KNeighborsClassifier(5)\n",
    "knn.fit(X_train,y_train)\n",
    "pred = knn.predict(X_test)\n",
    "acc = accuracy_score(y_test, pred, normalize=True) * float(100)\n",
    "print('\\n****Test accuracy for k = 5 is %f%%' % (acc))"
   ]
  },
  {
   "cell_type": "markdown",
   "metadata": {},
   "source": [
    "# Confusion Matrix"
   ]
  },
  {
   "cell_type": "code",
   "execution_count": 33,
   "metadata": {},
   "outputs": [
    {
     "name": "stdout",
     "output_type": "stream",
     "text": [
      "[[  152  2432]\n",
      " [  127 12289]]\n"
     ]
    }
   ],
   "source": [
    "from sklearn.metrics import confusion_matrix\n",
    "cm=confusion_matrix(y_test, pred)\n",
    "print(cm)"
   ]
  },
  {
   "cell_type": "code",
   "execution_count": 34,
   "metadata": {},
   "outputs": [
    {
     "data": {
      "text/plain": [
       "Text(0.5,1,'Confusion Matrix\\n')"
      ]
     },
     "execution_count": 34,
     "metadata": {},
     "output_type": "execute_result"
    },
    {
     "data": {
      "image/png": "[encoded data removed]",
      "text/plain": [
       "<Figure size 432x288 with 2 Axes>"
      ]
     },
     "metadata": {},
     "output_type": "display_data"
    }
   ],
   "source": [
    "import seaborn as sn\n",
    "import pandas as pd\n",
    "import matplotlib.pyplot as plt\n",
    "ax=plt.subplot()\n",
    "sns.heatmap(cm,annot=True,ax=ax,fmt='d')\n",
    "#labels\n",
    "ax.set_xlabel('Predicted label');\n",
    "ax.set_ylabel('True label')\n",
    "ax.xaxis.set_ticklabels(['negative','positive']);\n",
    "ax.yaxis.set_ticklabels(['negative','positive'])\n",
    "plt.title(\"Confusion Matrix\\n\")"
   ]
  },
  {
   "cell_type": "markdown",
   "metadata": {},
   "source": [
    "# # 10-fold cross validation"
   ]
  },
  {
   "cell_type": "code",
   "execution_count": 23,
   "metadata": {},
   "outputs": [
    {
     "name": "stdout",
     "output_type": "stream",
     "text": [
      "\n",
      "The optimal number of neighbors is 17.\n"
     ]
    },
    {
     "data": {
      "image/png": "[encoded data removed]",
      "text/plain": [
       "<Figure size 432x288 with 1 Axes>"
      ]
     },
     "metadata": {},
     "output_type": "display_data"
    },
    {
     "name": "stdout",
     "output_type": "stream",
     "text": [
      "the misclassification error for each k value is :  [0.179 0.151 0.148 0.146 0.146 0.146 0.145 0.145 0.145 0.145 0.145 0.145\n",
      " 0.145 0.146 0.146 0.146 0.146 0.146 0.146 0.146 0.146 0.146 0.146 0.146\n",
      " 0.146 0.146 0.146 0.146 0.146 0.146 0.146 0.146 0.146 0.146 0.146 0.146\n",
      " 0.146 0.146 0.146 0.146 0.146 0.146 0.146 0.146 0.146 0.146 0.146 0.146\n",
      " 0.146 0.146]\n"
     ]
    }
   ],
   "source": [
    "# creating odd list of K for KNN\n",
    "myList = list(range(0,100))\n",
    "neighbors = list(filter(lambda x: x % 2 != 0, myList))\n",
    "cv_scores = []\n",
    "\n",
    "# perform 10-fold cross validation\n",
    "for k in neighbors:\n",
    "    knn = KNeighborsClassifier(n_neighbors=k)\n",
    "    scores = cross_val_score(knn, X_train, y_train, cv=10, scoring='accuracy')\n",
    "    cv_scores.append(scores.mean())\n",
    "MSE = [1 - x for x in cv_scores]\n",
    "\n",
    "# determining best k\n",
    "optimal_k = neighbors[MSE.index(min(MSE))]\n",
    "print('\\nThe optimal number of neighbors is %d.' % optimal_k)\n",
    "\n",
    "# plot misclassification error vs k \n",
    "plt.plot(neighbors, MSE)\n",
    "\n",
    "for xy in zip(neighbors, np.round(MSE,3)):\n",
    "    plt.annotate('(%s, %s)' % xy, xy=xy, textcoords='data')\n",
    "\n",
    "plt.xlabel('Number of Neighbors K')\n",
    "plt.ylabel('Misclassification Error')\n",
    "plt.title('Bag of words of k-nn')\n",
    "plt.show()\n",
    "\n",
    "print(\"the misclassification error for each k value is : \", np.round(MSE,3))"
   ]
  },
  {
   "cell_type": "code",
   "execution_count": 24,
   "metadata": {},
   "outputs": [
    {
     "name": "stdout",
     "output_type": "stream",
     "text": [
      "\n",
      "The accuracy of the knn classifier for k = 17 is 82.906667%\n"
     ]
    }
   ],
   "source": [
    "# ============================== KNN with k = optimal_k ===============================================\n",
    "# instantiate learning model k = optimal_k\n",
    "knn_optimal = KNeighborsClassifier(n_neighbors=optimal_k)\n",
    "\n",
    "# fitting the model\n",
    "knn_optimal.fit(X_train, y_train)\n",
    "\n",
    "# predict the response\n",
    "pred = knn_optimal.predict(X_test)\n",
    "#evaluate accuracy\n",
    "acc = accuracy_score(y_test, pred) * 100\n",
    "print('\\nThe accuracy of the knn classifier for k = %d is %f%%' % (optimal_k, acc))"
   ]
  },
  {
   "cell_type": "markdown",
   "metadata": {},
   "source": [
    "# Confusion Matrix"
   ]
  },
  {
   "cell_type": "code",
   "execution_count": 26,
   "metadata": {},
   "outputs": [
    {
     "name": "stdout",
     "output_type": "stream",
     "text": [
      "[[   36  2548]\n",
      " [   16 12400]]\n"
     ]
    }
   ],
   "source": [
    "from sklearn.metrics import confusion_matrix\n",
    "cm=confusion_matrix(y_test, pred)\n",
    "print(cm)"
   ]
  },
  {
   "cell_type": "code",
   "execution_count": 31,
   "metadata": {},
   "outputs": [
    {
     "data": {
      "text/plain": [
       "(36, 2548, 16, 12400)"
      ]
     },
     "execution_count": 31,
     "metadata": {},
     "output_type": "execute_result"
    }
   ],
   "source": [
    "tn,fp,fn,tp =confusion_matrix(y_test,pred).ravel()\n",
    "(tn, fp, fn, tp)"
   ]
  },
  {
   "cell_type": "code",
   "execution_count": 27,
   "metadata": {},
   "outputs": [
    {
     "data": {
      "text/plain": [
       "Text(0.5,1,'Confusion Matrix\\n')"
      ]
     },
     "execution_count": 27,
     "metadata": {},
     "output_type": "execute_result"
    },
    {
     "data": {
      "image/png": "[encoded data removed]",
      "text/plain": [
       "<Figure size 432x288 with 2 Axes>"
      ]
     },
     "metadata": {},
     "output_type": "display_data"
    }
   ],
   "source": [
    "import seaborn as sn\n",
    "import pandas as pd\n",
    "import matplotlib.pyplot as plt\n",
    "ax=plt.subplot()\n",
    "sns.heatmap(cm,annot=True,ax=ax,fmt='d')\n",
    "#labels\n",
    "ax.set_xlabel('Predicted label');\n",
    "ax.set_ylabel('True label')\n",
    "ax.xaxis.set_ticklabels(['negative','positive']);\n",
    "ax.yaxis.set_ticklabels(['negative','positive'])\n",
    "plt.title(\"Confusion Matrix\\n\")"
   ]
  },
  {
   "cell_type": "markdown",
   "metadata": {},
   "source": [
    "# Conclusion:"
   ]
  },
  {
   "cell_type": "markdown",
   "metadata": {},
   "source": [
    "| Model|Hyperparameter|Test Accuracy|\n",
    "|------|------|------|\n",
    "|K-NN on Bag of Words  |K=5|82.94% |\n",
    "|K-fold on Bag of Words  |K=17 |82.90%  |"
   ]
  }
 ],
 "metadata": {
  "kernelspec": {
   "display_name": "Python 3",
   "language": "python",
   "name": "python3"
  },
  "language_info": {
   "codemirror_mode": {
    "name": "ipython",
    "version": 3
   },
   "file_extension": ".py",
   "mimetype": "text/x-python",
   "name": "python",
   "nbconvert_exporter": "python",
   "pygments_lexer": "ipython3",
   "version": "3.6.5"
  }
 },
 "nbformat": 4,
 "nbformat_minor": 2
}
